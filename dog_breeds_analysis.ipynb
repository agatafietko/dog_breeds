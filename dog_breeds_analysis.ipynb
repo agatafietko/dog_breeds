{
 "cells": [
  {
   "cell_type": "markdown",
   "id": "ae4a2a70",
   "metadata": {},
   "source": [
    "# Dog Breeds Analysis\n",
    "\n",
    "This project analyzes the \"Best in Show - Data About Dogs\" dataset from Kaggle to visualize and understand characteristics of different dog breeds."
   ]
  },
  {
   "cell_type": "code",
   "execution_count": null,
   "id": "866f8d3f",
   "metadata": {},
   "outputs": [],
   "source": [
    "# Import libraries\n",
    "import numpy as np\n",
    "import pandas as pd\n",
    "import matplotlib.pyplot as plt\n",
    "import seaborn as sns\n",
    "import os\n",
    "import subprocess\n",
    "\n",
    "# Set plot style and color palette - warm colors for dog breeds visualizations\n",
    "sns.set_style(\"whitegrid\")\n",
    "plt.rcParams[\"figure.figsize\"] = (12, 8)\n",
    "# Set a custom warm color palette\n",
    "dog_palette = sns.color_palette(\"YlOrRd\", 10)\n",
    "sns.set_palette(dog_palette)\n",
    "# Set custom color cycle for line plots\n",
    "plt.rcParams['axes.prop_cycle'] = plt.cycler(color=dog_palette)\n"
   ]
  },
  {
   "cell_type": "markdown",
   "id": "76c06f2e",
   "metadata": {},
   "source": [
    "## Data Loading\n",
    "\n",
    "Loading the dog breeds dataset from Kaggle."
   ]
  },
  {
   "cell_type": "code",
   "execution_count": null,
   "id": "a103e68e",
   "metadata": {},
   "outputs": [],
   "source": [
    "# Create a data directory if it doesn't exist\n",
    "os.makedirs(\"data\", exist_ok=True)\n",
    "\n",
    "# Download dataset using kagglehub\n",
    "try:\n",
    "    # Only download if the file doesn't already exist\n",
    "    if not os.path.exists(\"data/dog_breeds.csv\"):\n",
    "        print(\"Downloading dataset...\")\n",
    "        import kagglehub\n",
    "        kagglehub.dataset_download(\"paultimothymooney/best-in-show-data-about-dogs\", \n",
    "                                  path=\"data\")\n",
    "        print(\"Download complete!\")\n",
    "    else:\n",
    "        print(\"Dataset already exists in data directory\")\n",
    "except Exception as e:\n",
    "    print(f\"Error downloading dataset: {e}\")\n",
    "    print(\"Attempting alternate download method or using cached data...\")\n",
    "\n",
    "# List available files\n",
    "print(\"Files in data directory:\")\n",
    "for file in os.listdir(\"data\"):\n",
    "    if file.endswith(\".csv\"):\n",
    "        print(f\"- {file}\")\n",
    "\n",
    "# Load the dataset\n",
    "try:\n",
    "    df = pd.read_csv(\"data/dog_breeds.csv\")\n",
    "    print(f\"Dataset loaded successfully with {df.shape[0]} rows and {df.shape[1]} columns\")\n",
    "    df.head()\n",
    "except Exception as e:\n",
    "    print(f\"Error loading dataset: {e}\")\n",
    "    # Create a sample dataframe for demonstration if loading fails\n",
    "    print(\"Creating a sample dataset for demonstration\")\n",
    "    df = pd.DataFrame({\n",
    "        'breed': ['Labrador Retriever', 'German Shepherd', 'Golden Retriever', 'French Bulldog', 'Beagle'],\n",
    "        'popularity': [1, 2, 3, 4, 5],\n",
    "        'intelligence': [7, 3, 4, 58, 72],\n",
    "        'energy': [5, 5, 5, 3, 4],\n",
    "        'trainability': [5, 5, 5, 3, 4],\n",
    "        'price': [1200, 1500, 2000, 4000, 1000],\n",
    "        'lifespan': [12, 11, 12, 10, 13],\n",
    "        'weight': [30, 35, 30, 12, 10],\n",
    "        'shedding': [5, 5, 5, 2, 3]\n",
    "    })\n",
    "    df.head()"
   ]
  },
  {
   "cell_type": "markdown",
   "id": "d10a5fa7",
   "metadata": {},
   "source": [
    "## Top 10 Popular Breeds\n",
    "\n",
    "Visualization of the most popular dog breeds based on available data."
   ]
  },
  {
   "cell_type": "code",
   "execution_count": null,
   "id": "5463f5ca",
   "metadata": {},
   "outputs": [],
   "source": [
    "# Create popularity directory if it doesn't exist\n",
    "os.makedirs(\"dog_figures\", exist_ok=True)\n",
    "\n",
    "# Plot top 10 popular breeds\n",
    "plt.figure(figsize=(12, 6))\n",
    "top_popular = df.sort_values(\"popularity\", ascending=False).head(10)\n",
    "# Use the warm palette\n",
    "sns.barplot(x=\"popularity\", y=\"breed\", data=top_popular, palette=\"YlOrRd\")\n",
    "plt.title(\"Top 10 Most Popular Dog Breeds\", fontsize=16)\n",
    "plt.tight_layout()\n",
    "plt.savefig(\"dog_figures/top10_popular_breeds.png\")\n",
    "plt.show()"
   ]
  },
  {
   "cell_type": "markdown",
   "id": "91e240d2",
   "metadata": {},
   "source": [
    "## Top 10 Most Expensive Breeds\n",
    "\n",
    "Visualization of the most expensive dog breeds."
   ]
  },
  {
   "cell_type": "code",
   "execution_count": null,
   "id": "627cc83a",
   "metadata": {},
   "outputs": [],
   "source": [
    "# Plot top 10 expensive breeds\n",
    "plt.figure(figsize=(12, 6))\n",
    "top_expensive = df.sort_values(\"price\", ascending=False).head(10)\n",
    "sns.barplot(x=\"price\", y=\"breed\", data=top_expensive)\n",
    "plt.title(\"Top 10 Most Expensive Dog Breeds\", fontsize=16)\n",
    "plt.tight_layout()\n",
    "plt.savefig(\"dog_figures/top10_expensive_breeds.png\")\n",
    "plt.show()"
   ]
  },
  {
   "cell_type": "markdown",
   "id": "ed490c5b",
   "metadata": {},
   "source": [
    "## Top 10 Most Intelligent Breeds\n",
    "\n",
    "Visualization of the breeds with the highest intelligence rankings."
   ]
  },
  {
   "cell_type": "code",
   "execution_count": null,
   "id": "139260af",
   "metadata": {},
   "outputs": [],
   "source": [
    "# Plot top 10 intelligent breeds\n",
    "plt.figure(figsize=(12, 6))\n",
    "top_intelligent = df.sort_values(\"intelligence\", ascending=False).head(10)\n",
    "sns.barplot(x=\"intelligence\", y=\"breed\", data=top_intelligent)\n",
    "plt.title(\"Top 10 Most Intelligent Dog Breeds\", fontsize=16)\n",
    "plt.tight_layout()\n",
    "plt.savefig(\"dog_figures/top10_intelligence_breeds.png\")\n",
    "plt.show()"
   ]
  },
  {
   "cell_type": "markdown",
   "id": "af568bbf",
   "metadata": {},
   "source": [
    "## Lifespan vs. Weight Relationship\n",
    "\n",
    "Analysis of how a dog's weight affects its lifespan."
   ]
  },
  {
   "cell_type": "code",
   "execution_count": null,
   "id": "78faeebc",
   "metadata": {},
   "outputs": [],
   "source": [
    "# Plot weight vs lifespan\n",
    "plt.figure(figsize=(10, 8))\n",
    "# Use a darker color palette with larger point size and improved visibility\n",
    "sns.scatterplot(x=\"weight\", y=\"lifespan\", data=df, alpha=0.8, s=100, \n",
    "                color=\"#990000\",  # Dark red for better visibility\n",
    "                edgecolor=\"black\", linewidth=0.5)  # Add black outline to points\n",
    "# Add a trend line to highlight the relationship\n",
    "sns.regplot(x=\"weight\", y=\"lifespan\", data=df, scatter=False, \n",
    "            color=\"#660000\", line_kws={\"linewidth\": 2})\n",
    "# Remove top and right spines for cleaner look\n",
    "plt.gca().spines['top'].set_visible(False)\n",
    "plt.gca().spines['right'].set_visible(False)\n",
    "# Enhance grid for better readability\n",
    "plt.grid(True, alpha=0.3, linestyle='--')\n",
    "plt.title(\"Relationship Between Dog Weight and Lifespan\", fontsize=16, fontweight=\"bold\")\n",
    "plt.xlabel(\"Weight (kg)\", fontsize=12)\n",
    "plt.ylabel(\"Lifespan (years)\", fontsize=12)\n",
    "plt.tight_layout()\n",
    "plt.savefig(\"dog_figures/weight_vs_lifespan.png\")\n",
    "plt.show()"
   ]
  },
  {
   "cell_type": "markdown",
   "id": "f4fada20",
   "metadata": {},
   "source": [
    "## Breed Characteristics Comparison\n",
    "\n",
    "Radar charts comparing various characteristics of the top 5 most popular breeds."
   ]
  },
  {
   "cell_type": "code",
   "execution_count": null,
   "id": "ba01e384",
   "metadata": {},
   "outputs": [],
   "source": [
    "# Create radar chart for top 5 breeds\n",
    "from matplotlib.path import Path\n",
    "from matplotlib.spines import Spine\n",
    "from matplotlib.transforms import Affine2D\n",
    "import matplotlib.patches as mpatches\n",
    "import matplotlib.projections as proj\n",
    "\n",
    "def radar_factory(num_vars, frame='circle'):\n",
    "    # Calculate evenly-spaced axis angles\n",
    "    theta = np.linspace(0, 2*np.pi, num_vars, endpoint=False)\n",
    "    \n",
    "    class RadarAxes(plt.PolarAxes):\n",
    "        name = 'radar'\n",
    "        \n",
    "        def __init__(self, *args, **kwargs):\n",
    "            super().__init__(*args, **kwargs)\n",
    "            self.set_theta_zero_location('N')\n",
    "            \n",
    "        def fill(self, *args, **kwargs):\n",
    "            return super().fill_between(theta, *args, **kwargs)\n",
    "            \n",
    "        def plot(self, *args, **kwargs):\n",
    "            return super().plot(theta, *args, **kwargs)\n",
    "    \n",
    "    # Register the custom axes with matplotlib's projection registry\n",
    "    proj.register_projection(RadarAxes)\n",
    "    \n",
    "    # Create the figure\n",
    "    fig = plt.figure(figsize=(9, 9))\n",
    "    \n",
    "    # Add subplot using registered custom axes\n",
    "    ax = fig.add_subplot(111, projection='radar')\n",
    "    \n",
    "    return fig, ax\n",
    "\n",
    "# Get top 5 popular breeds\n",
    "top5_breeds = df.sort_values('popularity', ascending=False).head(5)\n",
    "\n",
    "# Select characteristics for comparison (modify as needed based on actual columns)\n",
    "characteristics = ['intelligence', 'energy', 'trainability', 'barking', 'shedding']\n",
    "N = len(characteristics)\n",
    "\n",
    "# Create radar plot\n",
    "fig, ax = radar_factory(N, frame='polygon')\n",
    "\n",
    "# Plot each breed\n",
    "# Custom colors from warm palette\n",
    "colors = plt.cm.YlOrRd(np.linspace(0.3, 0.9, len(top5_breeds)))\n",
    "for i, breed in enumerate(top5_breeds['breed']):\n",
    "    values = top5_breeds.iloc[i][characteristics].values\n",
    "    # Normalize values to 0-1 for better visualization\n",
    "    values = (values - df[characteristics].min()) / (df[characteristics].max() - df[characteristics].min())\n",
    "    ax.plot(values, label=breed, color=colors[i], linewidth=2)\n",
    "    ax.fill(values, alpha=0.1, color=colors[i])\n",
    "\n",
    "# Set labels\n",
    "ax.set_varlabels(characteristics)\n",
    "plt.title('Characteristics of Top 5 Most Popular Dog Breeds', fontsize=15)\n",
    "plt.legend(loc='upper right')\n",
    "\n",
    "plt.tight_layout()\n",
    "plt.savefig('dog_figures/top5_characteristics.png')\n",
    "plt.show()"
   ]
  },
  {
   "cell_type": "markdown",
   "id": "7dc94dfb",
   "metadata": {},
   "source": [
    "## Price vs. Popularity Analysis\n",
    "\n",
    "Examination of whether a breed's price correlates with its popularity."
   ]
  },
  {
   "cell_type": "code",
   "execution_count": null,
   "id": "29506900",
   "metadata": {},
   "outputs": [],
   "source": [
    "# Plot price vs popularity\n",
    "plt.figure(figsize=(10, 8))\n",
    "# Use a darker color scheme with hue based on breed popularity ranking\n",
    "sns.scatterplot(x=\"price\", y=\"popularity\", data=df, alpha=0.8, s=100,\n",
    "                hue=\"popularity\", palette=\"YlOrBr_r\",  # Using reverse YlOrBr (darker brown/orange)\n",
    "                edgecolor=\"black\", linewidth=0.5)  # Add black outline to points\n",
    "# Add a trend line to highlight the correlation\n",
    "sns.regplot(x=\"price\", y=\"popularity\", data=df, scatter=False,\n",
    "            color=\"#8B4513\", line_kws={\"linewidth\": 2})  # SaddleBrown color\n",
    "# Remove top and right spines for cleaner look\n",
    "plt.gca().spines['top'].set_visible(False)\n",
    "plt.gca().spines['right'].set_visible(False)\n",
    "# Enhance grid for better readability\n",
    "plt.grid(True, alpha=0.3, linestyle='--')\n",
    "plt.title(\"Relationship Between Price and Popularity\", fontsize=16, fontweight=\"bold\")\n",
    "plt.xlabel(\"Price ($)\", fontsize=12)\n",
    "plt.ylabel(\"Popularity Score\", fontsize=12)\n",
    "# Calculate correlation\n",
    "correlation = df['price'].corr(df['popularity'])\n",
    "# Add annotation for correlation\n",
    "plt.annotate(f\"Correlation: {correlation:.2f}\", \n",
    "             xy=(0.05, 0.95), xycoords=\"axes fraction\", \n",
    "             fontsize=12, bbox=dict(boxstyle=\"round,pad=0.3\", fc=\"white\", alpha=0.8))\n",
    "plt.tight_layout()\n",
    "plt.savefig(\"dog_figures/price_vs_popularity.png\")\n",
    "plt.show()"
   ]
  },
  {
   "cell_type": "markdown",
   "id": "16abfefa",
   "metadata": {},
   "source": [
    "## Key Findings\n",
    "\n",
    "- Labrador Retrievers, German Shepherds, and Golden Retrievers are consistently the most popular breeds\n",
    "- French Bulldogs and Cavalier King Charles Spaniels tend to be among the most expensive breeds\n",
    "- Smaller dogs generally have longer lifespans than larger breeds\n",
    "- Each breed has a unique profile of characteristics that makes it suitable for different lifestyles\n",
    "- There doesn't appear to be a strong correlation between a breed's price and its popularity"
   ]
  }
 ],
 "metadata": {
  "kernelspec": {
   "display_name": "Python 3",
   "language": "python",
   "name": "python3"
  },
  "language_info": {
   "codemirror_mode": {
    "name": "ipython",
    "version": 3
   },
   "file_extension": ".py",
   "mimetype": "text/x-python",
   "name": "python",
   "nbconvert_exporter": "python",
   "pygments_lexer": "ipython3",
   "version": "3.8.8"
  }
 },
 "nbformat": 4,
 "nbformat_minor": 5
}
