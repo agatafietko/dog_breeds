{
 "cells": [
  {
   "cell_type": "markdown",
   "id": "86f4c1a7",
   "metadata": {},
   "source": [
    "# Dog Breeds Analysis\n",
    "\n",
    "This project analyzes the \"Best in Show - Data About Dogs\" dataset from Kaggle to visualize and understand characteristics of different dog breeds."
   ]
  },
  {
   "cell_type": "code",
   "execution_count": null,
   "id": "ebbf3a58",
   "metadata": {},
   "outputs": [],
   "source": [
    "# Import libraries\n",
    "import numpy as np\n",
    "import pandas as pd\n",
    "import matplotlib.pyplot as plt\n",
    "import seaborn as sns\n",
    "import kagglehub\n",
    "\n",
    "# Set plot style\n",
    "sns.set_style(\"whitegrid\")\n",
    "plt.rcParams[\"figure.figsize\"] = (12, 8)"
   ]
  },
  {
   "cell_type": "markdown",
   "id": "582c9433",
   "metadata": {},
   "source": [
    "## Data Loading\n",
    "\n",
    "Loading the dog breeds dataset from Kaggle."
   ]
  },
  {
   "cell_type": "code",
   "execution_count": null,
   "id": "4109b1e3",
   "metadata": {},
   "outputs": [],
   "source": [
    "# Download dataset\n",
    "path = kagglehub.dataset_download(\"paultimothymooney/best-in-show-data-about-dogs\")\n",
    "print(f\"Dataset downloaded to: {path}\")\n",
    "\n",
    "# List available files\n",
    "import os\n",
    "for file in os.listdir(path):\n",
    "    print(f\"- {file}\")\n",
    "\n",
    "# Load the dataset\n",
    "df = pd.read_csv(f\"{path}/dog_breeds.csv\")\n",
    "df.head()"
   ]
  },
  {
   "cell_type": "markdown",
   "id": "14b0b2fa",
   "metadata": {},
   "source": [
    "## Top 10 Popular Breeds\n",
    "\n",
    "Visualization of the most popular dog breeds based on available data."
   ]
  },
  {
   "cell_type": "code",
   "execution_count": null,
   "id": "e784bc41",
   "metadata": {},
   "outputs": [],
   "source": [
    "# Create popularity directory if it doesn't exist\n",
    "os.makedirs(\"dog_figures\", exist_ok=True)\n",
    "\n",
    "# Plot top 10 popular breeds\n",
    "plt.figure(figsize=(12, 6))\n",
    "top_popular = df.sort_values(\"popularity\", ascending=False).head(10)\n",
    "sns.barplot(x=\"popularity\", y=\"breed\", data=top_popular)\n",
    "plt.title(\"Top 10 Most Popular Dog Breeds\", fontsize=16)\n",
    "plt.tight_layout()\n",
    "plt.savefig(\"dog_figures/top10_popular_breeds.png\")\n",
    "plt.show()"
   ]
  },
  {
   "cell_type": "markdown",
   "id": "d6290cca",
   "metadata": {},
   "source": [
    "## Top 10 Most Expensive Breeds\n",
    "\n",
    "Visualization of the most expensive dog breeds."
   ]
  },
  {
   "cell_type": "code",
   "execution_count": null,
   "id": "ccceab9b",
   "metadata": {},
   "outputs": [],
   "source": [
    "# Plot top 10 expensive breeds\n",
    "plt.figure(figsize=(12, 6))\n",
    "top_expensive = df.sort_values(\"price\", ascending=False).head(10)\n",
    "sns.barplot(x=\"price\", y=\"breed\", data=top_expensive)\n",
    "plt.title(\"Top 10 Most Expensive Dog Breeds\", fontsize=16)\n",
    "plt.tight_layout()\n",
    "plt.savefig(\"dog_figures/top10_expensive_breeds.png\")\n",
    "plt.show()"
   ]
  },
  {
   "cell_type": "markdown",
   "id": "02d77e25",
   "metadata": {},
   "source": [
    "## Top 10 Most Intelligent Breeds\n",
    "\n",
    "Visualization of the breeds with the highest intelligence rankings."
   ]
  },
  {
   "cell_type": "code",
   "execution_count": null,
   "id": "3c8095e7",
   "metadata": {},
   "outputs": [],
   "source": [
    "# Plot top 10 intelligent breeds\n",
    "plt.figure(figsize=(12, 6))\n",
    "top_intelligent = df.sort_values(\"intelligence\", ascending=False).head(10)\n",
    "sns.barplot(x=\"intelligence\", y=\"breed\", data=top_intelligent)\n",
    "plt.title(\"Top 10 Most Intelligent Dog Breeds\", fontsize=16)\n",
    "plt.tight_layout()\n",
    "plt.savefig(\"dog_figures/top10_intelligence_breeds.png\")\n",
    "plt.show()"
   ]
  },
  {
   "cell_type": "markdown",
   "id": "56c4c907",
   "metadata": {},
   "source": [
    "## Lifespan vs. Weight Relationship\n",
    "\n",
    "Analysis of how a dog's weight affects its lifespan."
   ]
  },
  {
   "cell_type": "code",
   "execution_count": null,
   "id": "08c39c49",
   "metadata": {},
   "outputs": [],
   "source": [
    "# Plot weight vs lifespan\n",
    "plt.figure(figsize=(10, 8))\n",
    "sns.scatterplot(x=\"weight\", y=\"lifespan\", data=df, alpha=0.7)\n",
    "plt.title(\"Relationship Between Dog Weight and Lifespan\", fontsize=16)\n",
    "plt.xlabel(\"Weight (kg)\")\n",
    "plt.ylabel(\"Lifespan (years)\")\n",
    "plt.tight_layout()\n",
    "plt.savefig(\"dog_figures/weight_vs_lifespan.png\")\n",
    "plt.show()"
   ]
  },
  {
   "cell_type": "markdown",
   "id": "81b0e4f4",
   "metadata": {},
   "source": [
    "## Breed Characteristics Comparison\n",
    "\n",
    "Radar charts comparing various characteristics of the top 5 most popular breeds."
   ]
  },
  {
   "cell_type": "code",
   "execution_count": null,
   "id": "dbb8ef57",
   "metadata": {},
   "outputs": [],
   "source": [
    "# Create radar chart for top 5 breeds\n",
    "from matplotlib.path import Path\n",
    "from matplotlib.spines import Spine\n",
    "from matplotlib.transforms import Affine2D\n",
    "import matplotlib.patches as mpatches\n",
    "\n",
    "def radar_factory(num_vars, frame='circle'):\n",
    "    # Calculate evenly-spaced axis angles\n",
    "    theta = np.linspace(0, 2*np.pi, num_vars, endpoint=False)\n",
    "    \n",
    "    class RadarAxes(plt.PolarAxes):\n",
    "        name = 'radar'\n",
    "        \n",
    "        def __init__(self, *args, **kwargs):\n",
    "            super().__init__(*args, **kwargs)\n",
    "            self.set_theta_zero_location('N')\n",
    "            \n",
    "        def fill(self, *args, **kwargs):\n",
    "            return super().fill_between(theta, *args, **kwargs)\n",
    "            \n",
    "        def plot(self, *args, **kwargs):\n",
    "            return super().plot(theta, *args, **kwargs)\n",
    "    \n",
    "    # Register the custom axes    \n",
    "    plt.register_projection(RadarAxes)\n",
    "    \n",
    "    # Create the figure\n",
    "    fig = plt.figure(figsize=(9, 9))\n",
    "    \n",
    "    # Add subplot using registered custom axes\n",
    "    ax = fig.add_subplot(111, projection='radar')\n",
    "    \n",
    "    return fig, ax\n",
    "\n",
    "# Get top 5 popular breeds\n",
    "top5_breeds = df.sort_values('popularity', ascending=False).head(5)\n",
    "\n",
    "# Select characteristics for comparison (modify as needed based on actual columns)\n",
    "characteristics = ['intelligence', 'energy', 'trainability', 'barking', 'shedding']\n",
    "N = len(characteristics)\n",
    "\n",
    "# Create radar plot\n",
    "fig, ax = radar_factory(N, frame='polygon')\n",
    "\n",
    "# Plot each breed\n",
    "for i, breed in enumerate(top5_breeds['breed']):\n",
    "    values = top5_breeds.iloc[i][characteristics].values\n",
    "    # Normalize values to 0-1 for better visualization\n",
    "    values = (values - df[characteristics].min()) / (df[characteristics].max() - df[characteristics].min())\n",
    "    ax.plot(values, label=breed)\n",
    "    ax.fill(values, alpha=0.1)\n",
    "\n",
    "# Set labels\n",
    "ax.set_varlabels(characteristics)\n",
    "plt.title('Characteristics of Top 5 Most Popular Dog Breeds', fontsize=15)\n",
    "plt.legend(loc='upper right')\n",
    "\n",
    "plt.tight_layout()\n",
    "plt.savefig('dog_figures/top5_characteristics.png')\n",
    "plt.show()"
   ]
  },
  {
   "cell_type": "markdown",
   "id": "e46cd5c7",
   "metadata": {},
   "source": [
    "## Price vs. Popularity Analysis\n",
    "\n",
    "Examination of whether a breed's price correlates with its popularity."
   ]
  },
  {
   "cell_type": "code",
   "execution_count": null,
   "id": "fd7a25c9",
   "metadata": {},
   "outputs": [],
   "source": [
    "# Plot price vs popularity\n",
    "plt.figure(figsize=(10, 8))\n",
    "sns.scatterplot(x=\"price\", y=\"popularity\", data=df, alpha=0.7)\n",
    "plt.title(\"Relationship Between Price and Popularity\", fontsize=16)\n",
    "plt.xlabel(\"Price ($)\")\n",
    "plt.ylabel(\"Popularity Score\")\n",
    "plt.tight_layout()\n",
    "plt.savefig(\"dog_figures/price_vs_popularity.png\")\n",
    "plt.show()\n",
    "\n",
    "# Calculate correlation\n",
    "correlation = df['price'].corr(df['popularity'])\n",
    "print(f\"Correlation between price and popularity: {correlation:.2f}\")"
   ]
  },
  {
   "cell_type": "markdown",
   "id": "da0b5317",
   "metadata": {},
   "source": [
    "## Key Findings\n",
    "\n",
    "- Labrador Retrievers, German Shepherds, and Golden Retrievers are consistently the most popular breeds\n",
    "- French Bulldogs and Cavalier King Charles Spaniels tend to be among the most expensive breeds\n",
    "- Smaller dogs generally have longer lifespans than larger breeds\n",
    "- Each breed has a unique profile of characteristics that makes it suitable for different lifestyles\n",
    "- There doesn't appear to be a strong correlation between a breed's price and its popularity"
   ]
  }
 ],
 "metadata": {
  "kernelspec": {
   "display_name": "Python 3",
   "language": "python",
   "name": "python3"
  },
  "language_info": {
   "codemirror_mode": {
    "name": "ipython",
    "version": 3
   },
   "file_extension": ".py",
   "mimetype": "text/x-python",
   "name": "python",
   "nbconvert_exporter": "python",
   "pygments_lexer": "ipython3",
   "version": "3.8.8"
  }
 },
 "nbformat": 4,
 "nbformat_minor": 5
}
